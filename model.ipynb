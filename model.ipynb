{
 "cells": [
  {
   "cell_type": "code",
   "execution_count": 2,
   "metadata": {},
   "outputs": [],
   "source": [
    "import numpy as np\n",
    "import os\n",
    "import cv2\n",
    "from sklearn.model_selection import train_test_split, cross_val_score, GridSearchCV\n",
    "from sklearn.ensemble import RandomForestClassifier\n",
    "from sklearn.metrics import accuracy_score\n",
    "from sklearn.tree import DecisionTreeClassifier\n",
    "from sklearn.decomposition import PCA\n",
    "import matplotlib.pyplot as plt\n",
    "import numpy as np\n",
    "from skimage import io, transform"
   ]
  },
  {
   "cell_type": "code",
   "execution_count": 3,
   "metadata": {},
   "outputs": [],
   "source": [
    "####### Load Dataset #######\n",
    "def load_images(folder_path):\n",
    "    images = [] \n",
    "    labels = []\n",
    "\n",
    "    i = 0\n",
    "    for filename in os.listdir(folder_path):\n",
    "        img_path = os.path.join(folder_path, filename)\n",
    "        img = io.imread(img_path)\n",
    "        img = transform.resize(img, (64, 64), anti_aliasing=True)\n",
    "        images.append(img)\n",
    "        labels.append(int(filename.split(\"_\")[1]))\n",
    "    \n",
    "    return np.array(images), np.array(labels)\n",
    "\n",
    "faces, labels = load_images('./dataset')"
   ]
  },
  {
   "cell_type": "code",
   "execution_count": 4,
   "metadata": {},
   "outputs": [
    {
     "name": "stdout",
     "output_type": "stream",
     "text": [
      "Number of samples: 400\n",
      "Number of features (pixels): 64\n",
      "Number of unique labels (people): 40\n"
     ]
    }
   ],
   "source": [
    "####### Print information about the dataset #######\n",
    "print(f\"Number of samples: {faces.shape[0]}\")\n",
    "print(f\"Number of features (pixels): {faces.shape[1]}\")\n",
    "print(f\"Number of unique labels (people): {len(set(labels))}\")"
   ]
  },
  {
   "cell_type": "code",
   "execution_count": 5,
   "metadata": {},
   "outputs": [],
   "source": [
    "####### Prepare Dataset #######\n",
    "X_train, X_test, y_train, y_test = train_test_split(faces, labels, test_size=0.2, random_state=42, stratify=labels)\n",
    "\n",
    "X_train_reshaped = X_train.reshape(X_train.shape[0], -1)\n",
    "X_test_reshaped = X_test.reshape(X_test.shape[0], -1)"
   ]
  },
  {
   "cell_type": "code",
   "execution_count": 6,
   "metadata": {},
   "outputs": [],
   "source": [
    "####### PCA #######\n",
    "n_components = 150\n",
    "pca = PCA(n_components=n_components, whiten=True).fit(X_train_reshaped)\n",
    "\n",
    "X_train_pca = pca.transform(X_train_reshaped)\n",
    "X_test_pca = pca.transform(X_test_reshaped)"
   ]
  },
  {
   "cell_type": "code",
   "execution_count": 7,
   "metadata": {},
   "outputs": [
    {
     "name": "stdout",
     "output_type": "stream",
     "text": [
      "Decision Tree Cross-Validation Scores: [0.421875 0.390625 0.390625 0.515625 0.421875]\n",
      "Mean Cross-Validation Score: 0.43\n",
      "Decision Tree Accuracy: 0.46\n"
     ]
    }
   ],
   "source": [
    "####### Decision Tree #######\n",
    "# Train\n",
    "decision_tree_classifier = DecisionTreeClassifier()\n",
    "decision_tree_classifier.fit(X_train_pca, y_train)\n",
    "\n",
    "# Cross-validation\n",
    "decision_tree_cv_scores = cross_val_score(decision_tree_classifier, X_train_pca, y_train, cv=5)\n",
    "print(f\"Decision Tree Cross-Validation Scores: {decision_tree_cv_scores}\")\n",
    "print(f\"Mean Cross-Validation Score: {np.mean(decision_tree_cv_scores):.2f}\")\n",
    "\n",
    "# Predict\n",
    "y_pred_tree = decision_tree_classifier.predict(X_test_pca)\n",
    "\n",
    "# Evaluate\n",
    "accuracy_tree = accuracy_score(y_test, y_pred_tree)\n",
    "print(f\"Decision Tree Accuracy: {accuracy_tree:.2f}\")"
   ]
  },
  {
   "cell_type": "code",
   "execution_count": 8,
   "metadata": {},
   "outputs": [
    {
     "name": "stdout",
     "output_type": "stream",
     "text": [
      "Random Forest Cross-Validation Scores: [0.921875 0.890625 0.859375 0.84375  0.859375]\n",
      "Mean Cross-Validation Score: 0.88\n",
      "Random Forest Accuracy: 0.94\n"
     ]
    }
   ],
   "source": [
    "####### Random Forest #######\n",
    "# Train\n",
    "random_forest_classifier = RandomForestClassifier(n_estimators=100, random_state=42)\n",
    "random_forest_classifier.fit(X_train_pca, y_train)\n",
    "\n",
    "# Cross-validation\n",
    "random_forest_cv_scores = cross_val_score(random_forest_classifier, X_train_pca, y_train, cv=5)\n",
    "print(f\"Random Forest Cross-Validation Scores: {random_forest_cv_scores}\")\n",
    "print(f\"Mean Cross-Validation Score: {np.mean(random_forest_cv_scores):.2f}\")\n",
    "\n",
    "\n",
    "# Predict\n",
    "y_pred_forest = random_forest_classifier.predict(X_test_pca)\n",
    "\n",
    "# Evaluate\n",
    "accuracy_forest = accuracy_score(y_test, y_pred_forest)\n",
    "print(f\"Random Forest Accuracy: {accuracy_forest:.2f}\")"
   ]
  },
  {
   "cell_type": "code",
   "execution_count": 9,
   "metadata": {},
   "outputs": [
    {
     "name": "stdout",
     "output_type": "stream",
     "text": [
      "Tuned Random Forest Cross-Validation Scores: [0.921875 0.890625 0.90625  0.90625  0.890625]\n",
      "Mean Cross-Validation Score: 0.90\n",
      "Tuned Random Forest Accuracy: 0.94\n"
     ]
    }
   ],
   "source": [
    "####### Tuned Random Forest\n",
    "# Hyperparameter tuning\n",
    "param_grid = {\n",
    "    'n_estimators': [50, 100, 150],\n",
    "    'max_depth': [None, 10, 20],\n",
    "    'min_samples_split': [2, 5, 10],\n",
    "    'min_samples_leaf': [1, 2, 4]\n",
    "}\n",
    "\n",
    "grid_search = GridSearchCV(RandomForestClassifier(random_state=0), param_grid, cv=5)\n",
    "grid_search.fit(X_train_pca, y_train)\n",
    "\n",
    "# Get the best parameters and retrain the model\n",
    "best_params = grid_search.best_params_\n",
    "best_forest_classifier = RandomForestClassifier(random_state=42, **best_params)\n",
    "best_forest_classifier.fit(X_train_pca, y_train)\n",
    "\n",
    "# Cross-validation\n",
    "best_forest_cv_scores = cross_val_score(best_forest_classifier, X_train_pca, y_train, cv=5)\n",
    "print(f\"Tuned Random Forest Cross-Validation Scores: {best_forest_cv_scores}\")\n",
    "print(f\"Mean Cross-Validation Score: {np.mean(best_forest_cv_scores):.2f}\")\n",
    "\n",
    "# Predict\n",
    "y_pred_best_forest = best_forest_classifier.predict(X_test_pca)\n",
    "\n",
    "# Evaluate\n",
    "accuracy_best_forest = accuracy_score(y_test, y_pred_best_forest)\n",
    "print(f\"Tuned Random Forest Accuracy: {accuracy_best_forest:.2f}\")\n"
   ]
  },
  {
   "cell_type": "code",
   "execution_count": 10,
   "metadata": {},
   "outputs": [],
   "source": [
    "def predict_person(image_path, pca_model = pca, classifier_model = best_forest_classifier):\n",
    "    img = io.imread(image_path)\n",
    "    img = transform.resize(img, (64, 64), anti_aliasing=True)\n",
    "    img_reshaped = img.reshape(1, -1)\n",
    "\n",
    "    img_pca = pca_model.transform(img_reshaped)\n",
    "\n",
    "    prediction = classifier_model.predict(img_pca)\n",
    "\n",
    "    return prediction[0]"
   ]
  },
  {
   "cell_type": "code",
   "execution_count": 11,
   "metadata": {},
   "outputs": [
    {
     "name": "stderr",
     "output_type": "stream",
     "text": [
      "invalid command name \"139657107185472check_dpi_scaling\"\n",
      "    while executing\n",
      "\"139657107185472check_dpi_scaling\"\n",
      "    (\"after\" script)\n",
      "invalid command name \"139657107143744update\"\n",
      "    while executing\n",
      "\"139657107143744update\"\n",
      "    (\"after\" script)\n",
      "/tmp/ipykernel_23513/3381025253.py:43: DeprecationWarning: ANTIALIAS is deprecated and will be removed in Pillow 10 (2023-07-01). Use LANCZOS or Resampling.LANCZOS instead.\n",
      "  resized_image = image.resize((230, 300), Image.ANTIALIAS)\n",
      "/tmp/ipykernel_23513/3381025253.py:43: DeprecationWarning: ANTIALIAS is deprecated and will be removed in Pillow 10 (2023-07-01). Use LANCZOS or Resampling.LANCZOS instead.\n",
      "  resized_image = image.resize((230, 300), Image.ANTIALIAS)\n"
     ]
    }
   ],
   "source": [
    "####### GUI #######\n",
    "import customtkinter\n",
    "from PIL import ImageTk, Image\n",
    "import tkinter\n",
    "\n",
    "#Window Theme\n",
    "customtkinter.set_appearance_mode(\"System\")\n",
    "customtkinter.set_default_color_theme(\"dark-blue\")\n",
    "\n",
    "#Starting Window\n",
    "app=customtkinter.CTk()\n",
    "\n",
    "#Window Dimensions\n",
    "w = 800\n",
    "h = 500\n",
    "ws = app.winfo_screenwidth()\n",
    "hs = app.winfo_screenheight()\n",
    "x = (ws/2) - (w/2)\n",
    "y = (hs/2) - (h/2)\n",
    "app.geometry('%dx%d+%d+%d' % (w, h, x, y))\n",
    "app.title(\"Face Recognition Project\")\n",
    "\n",
    "#Insert Label\n",
    "First_Label = customtkinter.CTkLabel(app,text=\"Upload Your Image\",text_color=\"Green\",font=(\"segoe ui\",18))\n",
    "First_Label.pack(pady=10)\n",
    "\n",
    "#Upload The Image Function\n",
    "def upload_the_image():\n",
    "    global image_label\n",
    "    # Remove old image_label if it exists\n",
    "    if 'image_label' in globals():\n",
    "        image_label.pack_forget()\n",
    "\n",
    "    imported_image = tkinter.filedialog.askopenfilename(initialdir=\"/Pictures\",\n",
    "    title=\"Select Your Image Please\", filetypes=((\"all file\", \"*.*\"), (\"png files\", \"*.*\"),))\n",
    "\n",
    "    label.configure(text= \"Person \" + str(predict_person(imported_image, pca, best_forest_classifier)))\n",
    "\n",
    "    #image\n",
    "    # Load the image using PIL\n",
    "    try:\n",
    "        image = Image.open(imported_image)\n",
    "        resized_image = image.resize((230, 300), Image.ANTIALIAS)\n",
    "        # Convert the image for Tkinter\n",
    "        tk_image = ImageTk.PhotoImage(resized_image)\n",
    "        # Create a label to display the image\n",
    "        image_label = tkinter.Label(app, image=tk_image)\n",
    "        image_label.pack()\n",
    "        # Keep a reference to the image to prevent garbage collection\n",
    "        image_label.image = tk_image\n",
    "    except FileNotFoundError:\n",
    "        print(\"File not found. Please provide a valid path to your image file.\")\n",
    "    except Exception as e:\n",
    "        print(\"An error occurred while loading the image:\", e)\n",
    "\n",
    "#Import Button\n",
    "import_button = customtkinter.CTkButton(app,text=\"Import Image\",command=upload_the_image)\n",
    "import_button.pack()\n",
    "\n",
    "#Result Image\n",
    "label = customtkinter.CTkLabel(app,text=\"\",text_color=\"Green\" ,font=(\"segoe ui\",18))\n",
    "label.pack(pady=20)\n",
    "\n",
    "#Loop Window \n",
    "app.mainloop()"
   ]
  }
 ],
 "metadata": {
  "kernelspec": {
   "display_name": "base",
   "language": "python",
   "name": "python3"
  },
  "language_info": {
   "codemirror_mode": {
    "name": "ipython",
    "version": 3
   },
   "file_extension": ".py",
   "mimetype": "text/x-python",
   "name": "python",
   "nbconvert_exporter": "python",
   "pygments_lexer": "ipython3",
   "version": "3.11.5"
  }
 },
 "nbformat": 4,
 "nbformat_minor": 2
}
