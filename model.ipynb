{
 "cells": [
  {
   "cell_type": "code",
   "execution_count": null,
   "metadata": {},
   "outputs": [],
   "source": [
    "# Import necessary libraries\n",
    "# import numpy as np\n",
    "# import os\n",
    "# import pandas as pd\n",
    "# from sklearn import preprocessing\n",
    "# from sklearn.preprocessing import LabelEncoder\n",
    "# from sklearn.metrics import classification_report\n",
    "import cv2\n",
    "from sklearn.model_selection import train_test_split\n",
    "from sklearn.ensemble import RandomForestClassifier\n",
    "from sklearn.metrics import accuracy_score\n",
    "from sklearn.tree import DecisionTreeClassifier\n",
    "from sklearn.decomposition import PCA\n",
    "from sklearn.datasets import fetch_olivetti_faces\n",
    "import matplotlib.pyplot as plt"
   ]
  },
  {
   "cell_type": "code",
   "execution_count": null,
   "metadata": {},
   "outputs": [],
   "source": [
    "# Load the Olivetti Faces dataset\n",
    "data = fetch_olivetti_faces(shuffle=True, random_state=42)\n",
    "faces = data.data\n",
    "labels = data.target"
   ]
  },
  {
   "cell_type": "code",
   "execution_count": null,
   "metadata": {},
   "outputs": [],
   "source": [
    "# Print information about the dataset\n",
    "print(f\"Number of samples: {faces.shape[0]}\")\n",
    "print(f\"Number of features (pixels): {faces.shape[1]}\")\n",
    "print(f\"Number of unique labels (people): {len(set(labels))}\")"
   ]
  },
  {
   "cell_type": "code",
   "execution_count": null,
   "metadata": {},
   "outputs": [],
   "source": [
    "# Split the dataset into training and testing sets\n",
    "X_train, X_test, y_train, y_test = train_test_split(faces, labels, test_size=0.2, random_state=42)\n",
    "\n",
    "\n",
    "# Use PCA for dimensionality reduction\n",
    "n_components = 150\n",
    "pca = PCA(n_components=n_components, whiten=True).fit(X_train)\n",
    "\n",
    "X_train_pca = pca.transform(X_train)\n",
    "X_test_pca = pca.transform(X_test)"
   ]
  },
  {
   "cell_type": "code",
   "execution_count": null,
   "metadata": {},
   "outputs": [],
   "source": [
    "# Train a Decision Tree classifier\n",
    "decision_tree_classifier = DecisionTreeClassifier()\n",
    "decision_tree_classifier.fit(X_train_pca, y_train)\n",
    "\n",
    "# Predict using the trained Decision Tree model\n",
    "y_pred_tree = decision_tree_classifier.predict(X_test_pca)\n",
    "\n",
    "# Evaluate the Decision Tree model\n",
    "accuracy_tree = accuracy_score(y_test, y_pred_tree)\n",
    "print(f\"Decision Tree Accuracy: {accuracy_tree:.2f}\")"
   ]
  },
  {
   "cell_type": "code",
   "execution_count": null,
   "metadata": {},
   "outputs": [],
   "source": [
    "# Train a Random Forest classifier\n",
    "random_forest_classifier = RandomForestClassifier(n_estimators=100, random_state=42)\n",
    "random_forest_classifier.fit(X_train_pca, y_train)\n",
    "\n",
    "# Predict using the trained Random Forest model\n",
    "y_pred_forest = random_forest_classifier.predict(X_test_pca)\n",
    "\n",
    "# Evaluate the Random Forest model\n",
    "accuracy_forest = accuracy_score(y_test, y_pred_forest)\n",
    "print(f\"Random Forest Accuracy: {accuracy_forest:.2f}\")"
   ]
  },
  {
   "cell_type": "code",
   "execution_count": null,
   "metadata": {},
   "outputs": [],
   "source": [
    "# Show Example:\n",
    "plt.imshow(data.images[0], cmap=\"gray\")\n",
    "plt.show()"
   ]
  },
  {
   "cell_type": "code",
   "execution_count": null,
   "metadata": {},
   "outputs": [],
   "source": [
    "# # Load an example image for testing\n",
    "# example_image_path = \"\"\n",
    "# example_image = cv2.imread(example_image_path, cv2.IMREAD_GRAYSCALE)\n",
    "\n",
    "# # Resize the image to match the training images' size (64x64)\n",
    "# example_image = cv2.resize(example_image, (64, 64))\n",
    "\n",
    "# # Flatten the image to match the model's input shape\n",
    "# example_image_flattened = example_image.flatten().reshape(1, -1)\n",
    "\n",
    "# # Perform PCA on the example image\n",
    "# example_image_pca = pca.transform(example_image_flattened)\n",
    "\n",
    "# # Predict using the trained Random Forest model\n",
    "# predicted_label = random_forest_classifier.predict(example_image_pca)[0]\n",
    "\n",
    "# # Get the predicted person's name based on the label\n",
    "# predicted_name = f\"Person {predicted_label}\"\n",
    "\n",
    "# # Display the input image along with the predicted name\n",
    "# plt.imshow(example_image, cmap='gray')\n",
    "# plt.title(predicted_name)\n",
    "# plt.axis('off')\n",
    "# plt.show()"
   ]
  }
 ],
 "metadata": {
  "kernelspec": {
   "display_name": "base",
   "language": "python",
   "name": "python3"
  },
  "language_info": {
   "codemirror_mode": {
    "name": "ipython",
    "version": 3
   },
   "file_extension": ".py",
   "mimetype": "text/x-python",
   "name": "python",
   "nbconvert_exporter": "python",
   "pygments_lexer": "ipython3",
   "version": "3.11.5"
  }
 },
 "nbformat": 4,
 "nbformat_minor": 2
}
