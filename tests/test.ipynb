{
 "cells": [
  {
   "cell_type": "code",
   "execution_count": 1,
   "metadata": {},
   "outputs": [],
   "source": [
    "from sklearn.datasets import fetch_olivetti_faces\n",
    "from sklearn.model_selection import train_test_split\n",
    "import numpy as np\n",
    "import cv2\n",
    "import matplotlib.pyplot as plt\n",
    "from sklearn.metrics import accuracy_score\n",
    "from sklearn.ensemble import RandomForestClassifier\n",
    "from sklearn.tree import DecisionTreeClassifier\n",
    "%matplotlib inline\n",
    "\n",
    "dataset = fetch_olivetti_faces()"
   ]
  },
  {
   "cell_type": "code",
   "execution_count": 2,
   "metadata": {},
   "outputs": [],
   "source": [
    "X = dataset.data\n",
    "y = dataset.target"
   ]
  },
  {
   "cell_type": "code",
   "execution_count": 3,
   "metadata": {},
   "outputs": [],
   "source": [
    "# np.random.seed(21)\n",
    "# ids_rand = np.random.randint(len(X), size=10)\n",
    "\n",
    "# plt.figure(figsize=(10, 4))\n",
    "# for ind, id in enumerate(ids_rand):\n",
    "#     rows = 2\n",
    "#     cols = 5\n",
    "#     plt.subplot(rows, cols, ind + 1)\n",
    "#     plt.imshow(X[id, :].reshape((64, 64)), cmap='gray')\n",
    "#     plt.axis('off')"
   ]
  },
  {
   "cell_type": "code",
   "execution_count": 4,
   "metadata": {},
   "outputs": [],
   "source": [
    "# ########## Preprocessing the dataset ##########\n",
    "# n_samples, n_features = X.shape\n",
    "# X -= X.mean(axis=0)\n",
    "# X -= X.mean(axis=1).reshape(n_samples, -1)\n",
    "\n",
    "# plt.figure(figsize=(10, 4))\n",
    "# for ind, id in enumerate(ids_rand):\n",
    "#     rows = 2\n",
    "#     cols = 5\n",
    "#     plt.subplot(rows, cols, ind + 1)\n",
    "#     plt.imshow(X[id, :].reshape((64, 64)), cmap='gray')\n",
    "#     plt.axis('off')\n",
    "# plt.savefig('olivetti-pre.png')"
   ]
  },
  {
   "cell_type": "code",
   "execution_count": 5,
   "metadata": {},
   "outputs": [],
   "source": [
    "########### Training and testing the random forest ###########\n",
    "X_train, X_test, y_train, y_test = train_test_split(X, y, random_state=21)\n",
    "\n",
    "rtree = cv2.ml.RTrees_create()"
   ]
  },
  {
   "cell_type": "code",
   "execution_count": 6,
   "metadata": {},
   "outputs": [
    {
     "data": {
      "text/plain": [
       "25"
      ]
     },
     "execution_count": 6,
     "metadata": {},
     "output_type": "execute_result"
    }
   ],
   "source": [
    "num_trees = 50\n",
    "eps = 0.01\n",
    "criteria = (cv2.TERM_CRITERIA_MAX_ITER + cv2.TERM_CRITERIA_EPS, num_trees, eps)\n",
    "rtree.setTermCriteria(criteria)\n",
    "rtree.setMaxCategories(len(np.unique(y)))\n",
    "rtree.setMinSampleCount(2)\n",
    "rtree.setMaxDepth(1000)\n",
    "rtree.train(X_train, cv2.ml.ROW_SAMPLE, y_train)\n",
    "rtree.getMaxDepth()"
   ]
  },
  {
   "cell_type": "code",
   "execution_count": 7,
   "metadata": {},
   "outputs": [
    {
     "data": {
      "text/plain": [
       "0.86"
      ]
     },
     "execution_count": 7,
     "metadata": {},
     "output_type": "execute_result"
    }
   ],
   "source": [
    "_, y_hat = rtree.predict(X_test)\n",
    "accuracy_score(y_test, y_hat)"
   ]
  },
  {
   "cell_type": "code",
   "execution_count": 8,
   "metadata": {},
   "outputs": [
    {
     "data": {
      "text/plain": [
       "0.91"
      ]
     },
     "execution_count": 8,
     "metadata": {},
     "output_type": "execute_result"
    }
   ],
   "source": [
    "# Random Forest Training\n",
    "RF_model = RandomForestClassifier(n_estimators = 100, random_state = 0)\n",
    "RF_model.fit(X_train, y_train)\n",
    "RF_model.score(X_test, y_test)"
   ]
  },
  {
   "cell_type": "code",
   "execution_count": 15,
   "metadata": {},
   "outputs": [
    {
     "data": {
      "text/plain": [
       "0.45"
      ]
     },
     "execution_count": 15,
     "metadata": {},
     "output_type": "execute_result"
    }
   ],
   "source": [
    "# Decision tree\n",
    "tree = DecisionTreeClassifier(criterion='gini', random_state=21, max_depth=25)\n",
    "tree.fit(X_train, y_train)\n",
    "tree.score(X_test, y_test)"
   ]
  },
  {
   "cell_type": "code",
   "execution_count": 18,
   "metadata": {},
   "outputs": [
    {
     "ename": "ValueError",
     "evalue": "too many values to unpack (expected 2)",
     "output_type": "error",
     "traceback": [
      "\u001b[0;31m---------------------------------------------------------------------------\u001b[0m",
      "\u001b[0;31mValueError\u001b[0m                                Traceback (most recent call last)",
      "\u001b[1;32m/home/bassem/Desktop/ai-project.ipynb Cell 10\u001b[0m line \u001b[0;36m8\n\u001b[1;32m      <a href='vscode-notebook-cell:/home/bassem/Desktop/ai-project.ipynb#X13sZmlsZQ%3D%3D?line=0'>1</a>\u001b[0m \u001b[39m# num_trees = 100\u001b[39;00m\n\u001b[1;32m      <a href='vscode-notebook-cell:/home/bassem/Desktop/ai-project.ipynb#X13sZmlsZQ%3D%3D?line=1'>2</a>\u001b[0m \u001b[39m# eps = 0.01\u001b[39;00m\n\u001b[1;32m      <a href='vscode-notebook-cell:/home/bassem/Desktop/ai-project.ipynb#X13sZmlsZQ%3D%3D?line=2'>3</a>\u001b[0m \u001b[39m# criteria = (cv2.TERM_CRITERIA_MAX_ITER + cv2.TERM_CRITERIA_EPS, num_trees, eps)\u001b[39;00m\n\u001b[0;32m   (...)\u001b[0m\n\u001b[1;32m      <a href='vscode-notebook-cell:/home/bassem/Desktop/ai-project.ipynb#X13sZmlsZQ%3D%3D?line=5'>6</a>\u001b[0m \u001b[39m# _, y_hat = rtree.predict(X_test)\u001b[39;00m\n\u001b[1;32m      <a href='vscode-notebook-cell:/home/bassem/Desktop/ai-project.ipynb#X13sZmlsZQ%3D%3D?line=6'>7</a>\u001b[0m \u001b[39m# accuracy_score(y_test, y_hat)\u001b[39;00m\n\u001b[0;32m----> <a href='vscode-notebook-cell:/home/bassem/Desktop/ai-project.ipynb#X13sZmlsZQ%3D%3D?line=7'>8</a>\u001b[0m _, DT_prediction \u001b[39m=\u001b[39m tree\u001b[39m.\u001b[39mpredict(X_test)\n\u001b[1;32m      <a href='vscode-notebook-cell:/home/bassem/Desktop/ai-project.ipynb#X13sZmlsZQ%3D%3D?line=8'>9</a>\u001b[0m DT_prediction\n",
      "\u001b[0;31mValueError\u001b[0m: too many values to unpack (expected 2)"
     ]
    }
   ],
   "source": [
    "# num_trees = 100\n",
    "# eps = 0.01\n",
    "# criteria = (cv2.TERM_CRITERIA_MAX_ITER + cv2.TERM_CRITERIA_EPS, num_trees, eps)\n",
    "# rtree.setTermCriteria(criteria)\n",
    "# rtree.train(X_train, cv2.ml.ROW_SAMPLE, y_train)\n",
    "# _, y_hat = rtree.predict(X_test)\n",
    "# accuracy_score(y_test, y_hat)\n",
    "_, DT_prediction = tree.predict(X_test)\n",
    "DT_prediction"
   ]
  }
 ],
 "metadata": {
  "kernelspec": {
   "display_name": "base",
   "language": "python",
   "name": "python3"
  },
  "language_info": {
   "codemirror_mode": {
    "name": "ipython",
    "version": 3
   },
   "file_extension": ".py",
   "mimetype": "text/x-python",
   "name": "python",
   "nbconvert_exporter": "python",
   "pygments_lexer": "ipython3",
   "version": "3.11.5"
  }
 },
 "nbformat": 4,
 "nbformat_minor": 2
}
